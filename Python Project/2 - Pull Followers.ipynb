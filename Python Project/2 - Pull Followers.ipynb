{
 "cells": [
  {
   "cell_type": "code",
   "execution_count": 1,
   "id": "bf4610e2",
   "metadata": {},
   "outputs": [],
   "source": [
    "import tweepy\n",
    "import webbrowser\n",
    "import time"
   ]
  },
  {
   "cell_type": "code",
   "execution_count": 2,
   "id": "5051b171",
   "metadata": {},
   "outputs": [],
   "source": [
    "consumer_key = \"HO24YC3OXsclTklb9q91rPstc\"\n",
    "consumer_secret = \"L4AlvJI2ClgptTEdlHNmgYTgqbrbsjECS9tSySRNiVH5aaLTej\""
   ]
  },
  {
   "cell_type": "code",
   "execution_count": 3,
   "id": "d600caaf",
   "metadata": {},
   "outputs": [],
   "source": [
    "callback_uri = 'oob' # https://cfe.sh/twitter/callback"
   ]
  },
  {
   "cell_type": "code",
   "execution_count": 4,
   "id": "b8695713",
   "metadata": {},
   "outputs": [
    {
     "name": "stdout",
     "output_type": "stream",
     "text": [
      "https://api.twitter.com/oauth/authorize?oauth_token=O3Ck6QAAAAABSM8zAAABe1_R5i8\n"
     ]
    }
   ],
   "source": [
    "auth = tweepy.OAuthHandler(consumer_key, consumer_secret, callback_uri)\n",
    "redirect_url = auth.get_authorization_url()\n",
    "print(redirect_url)"
   ]
  },
  {
   "cell_type": "code",
   "execution_count": 5,
   "id": "7153990d",
   "metadata": {},
   "outputs": [
    {
     "data": {
      "text/plain": [
       "True"
      ]
     },
     "execution_count": 5,
     "metadata": {},
     "output_type": "execute_result"
    }
   ],
   "source": [
    "webbrowser.open(redirect_url)"
   ]
  },
  {
   "cell_type": "code",
   "execution_count": 6,
   "id": "9db1a393",
   "metadata": {},
   "outputs": [
    {
     "name": "stdout",
     "output_type": "stream",
     "text": [
      "What's the pin value? 7863785\n"
     ]
    }
   ],
   "source": [
    "user_pin_input = input(\"What's the pin value? \")"
   ]
  },
  {
   "cell_type": "code",
   "execution_count": 7,
   "id": "de273d9e",
   "metadata": {},
   "outputs": [
    {
     "data": {
      "text/plain": [
       "('486977981-9vqd1VTICsY4i1HOFC0eBkvU2JUUXuxmjMS6nwwa',\n",
       " 'MTNvx5Fuula5Bqwo0iEqP0XMXB5nSgWipbTxtuAw4H4e3')"
      ]
     },
     "execution_count": 7,
     "metadata": {},
     "output_type": "execute_result"
    }
   ],
   "source": [
    "auth.get_access_token(user_pin_input)"
   ]
  },
  {
   "cell_type": "code",
   "execution_count": 8,
   "id": "b91f2a36",
   "metadata": {},
   "outputs": [
    {
     "name": "stdout",
     "output_type": "stream",
     "text": [
      "486977981-9vqd1VTICsY4i1HOFC0eBkvU2JUUXuxmjMS6nwwa MTNvx5Fuula5Bqwo0iEqP0XMXB5nSgWipbTxtuAw4H4e3\n"
     ]
    }
   ],
   "source": [
    "print(auth.access_token, auth.access_token_secret)"
   ]
  },
  {
   "cell_type": "code",
   "execution_count": 9,
   "id": "f3f6eae1",
   "metadata": {},
   "outputs": [],
   "source": [
    "api = tweepy.API(auth)"
   ]
  },
  {
   "cell_type": "code",
   "execution_count": 10,
   "id": "ad88bdb4",
   "metadata": {},
   "outputs": [],
   "source": [
    "me = api.me"
   ]
  },
  {
   "cell_type": "code",
   "execution_count": 11,
   "id": "f0404552",
   "metadata": {},
   "outputs": [
    {
     "ename": "AttributeError",
     "evalue": "'function' object has no attribute 'screen_name'",
     "output_type": "error",
     "traceback": [
      "\u001b[0;31m---------------------------------------------------------------------------\u001b[0m",
      "\u001b[0;31mAttributeError\u001b[0m                            Traceback (most recent call last)",
      "\u001b[0;32m/var/folders/_m/kpmtm3x527dft028tvz4w_5m0000gn/T/ipykernel_40955/3943215848.py\u001b[0m in \u001b[0;36m<module>\u001b[0;34m\u001b[0m\n\u001b[0;32m----> 1\u001b[0;31m \u001b[0mprint\u001b[0m\u001b[0;34m(\u001b[0m\u001b[0mme\u001b[0m\u001b[0;34m.\u001b[0m\u001b[0mscreen_name\u001b[0m\u001b[0;34m)\u001b[0m\u001b[0;34m\u001b[0m\u001b[0;34m\u001b[0m\u001b[0m\n\u001b[0m",
      "\u001b[0;31mAttributeError\u001b[0m: 'function' object has no attribute 'screen_name'"
     ]
    }
   ],
   "source": [
    "print(me.screen_name)"
   ]
  },
  {
   "cell_type": "code",
   "execution_count": null,
   "id": "b4f37422",
   "metadata": {},
   "outputs": [],
   "source": []
  }
 ],
 "metadata": {
  "kernelspec": {
   "display_name": "Python 3 (ipykernel)",
   "language": "python",
   "name": "python3"
  },
  "language_info": {
   "codemirror_mode": {
    "name": "ipython",
    "version": 3
   },
   "file_extension": ".py",
   "mimetype": "text/x-python",
   "name": "python",
   "nbconvert_exporter": "python",
   "pygments_lexer": "ipython3",
   "version": "3.8.2"
  }
 },
 "nbformat": 4,
 "nbformat_minor": 5
}
